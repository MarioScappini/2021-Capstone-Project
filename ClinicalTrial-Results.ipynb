{
 "cells": [
  {
   "cell_type": "code",
   "execution_count": 1,
   "id": "950e7af4",
   "metadata": {},
   "outputs": [],
   "source": [
    "import pandas as pd\n",
    "import numpy as np\n",
    "import matplotlib.pyplot as plt"
   ]
  },
  {
   "cell_type": "code",
   "execution_count": 2,
   "id": "f254e5ff",
   "metadata": {},
   "outputs": [],
   "source": [
    "def gaussian(x, mu, sig):\n",
    "    return 1./(np.sqrt(2.*np.pi)*sig)*np.exp(-np.power((x - mu)/sig, 2.)/2)"
   ]
  },
  {
   "cell_type": "markdown",
   "id": "76968d0d",
   "metadata": {},
   "source": [
    "### Best Case Simulation Results"
   ]
  },
  {
   "cell_type": "code",
   "execution_count": 3,
   "id": "e82aba07",
   "metadata": {},
   "outputs": [],
   "source": [
    "base_case_random = pd.read_csv('data/random.csv')\n",
    "base_case_thompson = pd.read_csv('data/thompson.csv')\n",
    "base_case_egreedy = pd.read_csv('data/egreedy.csv')\n",
    "base_case_real = pd.read_csv('data/real.csv')\n",
    "base_case_ucb = pd.read_csv('data/ucb.csv')\n",
    "data_med_dist = pd.read_csv(\"data/treatment.csv\")\n",
    "data_pl_dist = pd.read_csv(\"data/placebo_high.csv\")"
   ]
  },
  {
   "cell_type": "code",
   "execution_count": 43,
   "id": "e397d2e1",
   "metadata": {},
   "outputs": [
    {
     "data": {
      "image/png": "[encoded data removed]",
      "text/plain": [
       "<Figure size 576x432 with 1 Axes>"
      ]
     },
     "metadata": {},
     "output_type": "display_data"
    }
   ],
   "source": [
    "fig = plt.figure(figsize=(8,6))\n",
    "x_values = np.linspace(7, 25, 10000)\n",
    "\n",
    "# generate gaussian curves with mu = 0, sigma = 5, 10\n",
    "plt.plot(x_values, gaussian(x_values, data_med_dist.mean()[1], data_med_dist.std()[1]),color=\"blue\",label=\"Lofexidine\" )\n",
    "plt.plot(x_values, gaussian(x_values, (data_pl_dist.mean()[1]), data_pl_dist.std()[1]),color=\"red\", label = \"Placebo\")\n",
    "\n",
    "fig.patch.set_facecolor('white')\n",
    "fig.patch.set_alpha(1)\n",
    "\n",
    "plt.xlabel(\"MHOWS values\")\n",
    "plt.ylabel(\"Frequency\")\n",
    "plt.legend(loc='best')\n",
    "plt.title(\"Treatment Outcomes\")\n",
    "\n",
    "plt.show()"
   ]
  },
  {
   "cell_type": "code",
   "execution_count": 18,
   "id": "973c5036",
   "metadata": {},
   "outputs": [
    {
     "name": "stdout",
     "output_type": "stream",
     "text": [
      "Thopson Base Case - N1 -  mean:  94.453 std  1.0986346062262946\n",
      "Thompson Base Case - N2 -  mean:  1.547 std  1.0986346062262944\n",
      "Thompson Base Case - P -  mean:  0.0004150681918067653 std  0.002664687394015377\n"
     ]
    }
   ],
   "source": [
    "print(\"Thopson Base Case - N1 -  mean: \",base_case_thompson[\"n1\"].mean(),\"std \",base_case_thompson[\"n1\"].std())\n",
    "print(\"Thompson Base Case - N2 -  mean: \",base_case_thompson[\"n2\"].mean(),\"std \",base_case_thompson[\"n2\"].std())\n",
    "print(\"Thompson Base Case - P -  mean: \",base_case_thompson[\"p-values\"].mean(),\"std \",base_case_thompson[\"p-values\"].std())"
   ]
  },
  {
   "cell_type": "code",
   "execution_count": 19,
   "id": "b38b0faf",
   "metadata": {},
   "outputs": [
    {
     "name": "stdout",
     "output_type": "stream",
     "text": [
      "UCB Base Case - N1 -  mean:  94.9983 std  0.041198054905206186\n",
      "UCB Base Case - N2 -  mean:  1.0017 std  0.04119805490520617\n",
      "UCB Base Case - P -  mean:  0.0037952109073777175 std  0.02614485743512484\n"
     ]
    }
   ],
   "source": [
    "print(\"UCB Base Case - N1 -  mean: \",base_case_ucb[\"n1\"].mean(),\"std \",base_case_ucb[\"n1\"].std())\n",
    "print(\"UCB Base Case - N2 -  mean: \",base_case_ucb[\"n2\"].mean(),\"std \",base_case_ucb[\"n2\"].std())\n",
    "print(\"UCB Base Case - P -  mean: \",base_case_ucb[\"p-values\"].mean(),\"std \",base_case_ucb[\"p-values\"].std())\n"
   ]
  },
  {
   "cell_type": "code",
   "execution_count": 20,
   "id": "d4aa9feb",
   "metadata": {},
   "outputs": [
    {
     "name": "stdout",
     "output_type": "stream",
     "text": [
      "Real Base Case - N1 -  mean:  48.0 std  0.0\n",
      "Real Base Case - N2 -  mean:  48.0 std  0.0\n",
      "Real Base Case - P -  mean:  1.62433528896998e-11 std  5.427823881936847e-10\n"
     ]
    }
   ],
   "source": [
    "print(\"Real Base Case - N1 -  mean: \",base_case_real[\"n1\"].mean(),\"std \",base_case_real[\"n1\"].std())\n",
    "print(\"Real Base Case - N2 -  mean: \",base_case_real[\"n2\"].mean(),\"std \",base_case_real[\"n2\"].std())\n",
    "print(\"Real Base Case - P -  mean: \",base_case_real[\"p-values\"].mean(),\"std \",base_case_real[\"p-values\"].std())\n"
   ]
  },
  {
   "cell_type": "code",
   "execution_count": 21,
   "id": "45e12bed",
   "metadata": {},
   "outputs": [
    {
     "name": "stdout",
     "output_type": "stream",
     "text": [
      "E-Greedy Base Case - N1 -  mean:  85.4555 std  2.9215190017057737\n",
      "E-Greedy Base Case - N2 -  mean:  10.5445 std  2.9215190017057737\n",
      "E-Greedy Base Case - P -  mean:  2.144526953299533e-06 std  4.982126830793127e-05\n"
     ]
    }
   ],
   "source": [
    "print(\"E-Greedy Base Case - N1 -  mean: \",base_case_egreedy[\"n1\"].mean(),\"std \",base_case_egreedy[\"n1\"].std())\n",
    "print(\"E-Greedy Base Case - N2 -  mean: \",base_case_egreedy[\"n2\"].mean(),\"std \",base_case_egreedy[\"n2\"].std())\n",
    "print(\"E-Greedy Base Case - P -  mean: \",base_case_egreedy[\"p-values\"].mean(),\"std \",base_case_egreedy[\"p-values\"].std())"
   ]
  },
  {
   "cell_type": "markdown",
   "id": "32ad5436",
   "metadata": {},
   "source": [
    "### Medium Case Simulation Results"
   ]
  },
  {
   "cell_type": "code",
   "execution_count": 21,
   "id": "2a829c4c",
   "metadata": {},
   "outputs": [],
   "source": [
    "med_case_random = pd.read_csv('data/random_med.csv')\n",
    "med_case_thompson = pd.read_csv('data/thompson_med.csv')\n",
    "med_case_egreedy = pd.read_csv('data/egreedy_med.csv')\n",
    "med_case_real = pd.read_csv('data/real_med.csv')\n",
    "med_case_ucb = pd.read_csv('data/ucb_med.csv')\n",
    "data_med_dist = pd.read_csv(\"data/treatment.csv\")\n",
    "data_pl_dist = pd.read_csv(\"data/placebo_med.csv\")"
   ]
  },
  {
   "cell_type": "code",
   "execution_count": 22,
   "id": "cc5e3e18",
   "metadata": {},
   "outputs": [
    {
     "data": {
      "image/png": "[encoded data removed]",
      "text/plain": [
       "<Figure size 576x432 with 1 Axes>"
      ]
     },
     "metadata": {},
     "output_type": "display_data"
    }
   ],
   "source": [
    "fig = plt.figure(figsize=(8,6))\n",
    "x_values = np.linspace(7, 25, 10000)\n",
    "\n",
    "# generate gaussian curves with mu = 0, sigma = 5, 10\n",
    "plt.plot(x_values, gaussian(x_values, data_med_dist.mean()[1], data_med_dist.std()[1]),color=\"blue\",label=\"Lofexidine\" )\n",
    "plt.plot(x_values, gaussian(x_values, (data_pl_dist.mean()[1]), data_pl_dist.std()[1]),color=\"red\", label = \"Placebo\")\n",
    "\n",
    "fig.patch.set_facecolor('white')\n",
    "fig.patch.set_alpha(1)\n",
    "\n",
    "plt.xlabel(\"MHOWS values\")\n",
    "plt.ylabel(\"Frequency\")\n",
    "plt.legend(loc='best')\n",
    "plt.title(\"Treatment Outcomes\")\n",
    "\n",
    "plt.show()"
   ]
  },
  {
   "cell_type": "code",
   "execution_count": 23,
   "id": "cbd5fa39",
   "metadata": {},
   "outputs": [
    {
     "name": "stdout",
     "output_type": "stream",
     "text": [
      "Thopson Med Case - N1 -  mean:  94.179 std  1.2059906357071821\n",
      "Thompson Med Case - N2 -  mean:  1.821 std  1.2059906357071815\n",
      "Thompson Med Case - P -  mean:  0.004552278130561421 std  0.01436940137592126\n"
     ]
    }
   ],
   "source": [
    "print(\"Thopson Med Case - N1 -  mean: \",med_case_thompson[\"n1\"].mean(),\"std \",med_case_thompson[\"n1\"].std())\n",
    "print(\"Thompson Med Case - N2 -  mean: \",med_case_thompson[\"n2\"].mean(),\"std \",med_case_thompson[\"n2\"].std())\n",
    "print(\"Thompson Med Case - P -  mean: \",med_case_thompson[\"p-values\"].mean(),\"std \",med_case_thompson[\"p-values\"].std())"
   ]
  },
  {
   "cell_type": "code",
   "execution_count": 25,
   "id": "23e2c26f",
   "metadata": {},
   "outputs": [
    {
     "name": "stdout",
     "output_type": "stream",
     "text": [
      "Thopson Med Case - N1 -  mean:  85.4815 std  2.910722415569428\n",
      "Thompson Med Case - N2 -  mean:  10.5185 std  2.9107224155694285\n",
      "Thompson Med Case - P -  mean:  0.00035064313527232214 std  0.0026520935240176274\n"
     ]
    }
   ],
   "source": [
    "print(\"E-Greedy Med Case - N1 -  mean: \",med_case_egreedy[\"n1\"].mean(),\"std \",med_case_egreedy[\"n1\"].std())\n",
    "print(\"E-Greedy Med Case - N2 -  mean: \",med_case_egreedy[\"n2\"].mean(),\"std \",med_case_egreedy[\"n2\"].std())\n",
    "print(\"E-Greedy Med Case - P -  mean: \",med_case_egreedy[\"p-values\"].mean(),\"std \",med_case_egreedy[\"p-values\"].std())"
   ]
  },
  {
   "cell_type": "code",
   "execution_count": 26,
   "id": "a5fa57dc",
   "metadata": {},
   "outputs": [
    {
     "name": "stdout",
     "output_type": "stream",
     "text": [
      "Thopson Med Case - N1 -  mean:  94.9531 std  0.28054992572820825\n",
      "Thompson Med Case - N2 -  mean:  1.0469 std  0.2805499257282047\n",
      "Thompson Med Case - P -  mean:  0.026117139231319038 std  0.07472598410090978\n"
     ]
    }
   ],
   "source": [
    "print(\"UCB Med Case - N1 -  mean: \",med_case_ucb[\"n1\"].mean(),\"std \",med_case_ucb[\"n1\"].std())\n",
    "print(\"UCB Med Case - N2 -  mean: \",med_case_ucb[\"n2\"].mean(),\"std \",med_case_ucb[\"n2\"].std())\n",
    "print(\"UCB Med Case - P -  mean: \",med_case_ucb[\"p-values\"].mean(),\"std \",med_case_ucb[\"p-values\"].std())"
   ]
  },
  {
   "cell_type": "code",
   "execution_count": 27,
   "id": "d2b49535",
   "metadata": {},
   "outputs": [
    {
     "name": "stdout",
     "output_type": "stream",
     "text": [
      "Thopson Med Case - N1 -  mean:  47.986 std  5.010101207701433\n",
      "Thompson Med Case - N2 -  mean:  48.014 std  5.010101207701433\n",
      "Thompson Med Case - P -  mean:  7.396925987194267e-07 std  8.550487088997398e-06\n"
     ]
    }
   ],
   "source": [
    "print(\"Random Med Case - N1 -  mean: \",med_case_random[\"n1\"].mean(),\"std \",med_case_random[\"n1\"].std())\n",
    "print(\"Random Med Case - N2 -  mean: \",med_case_random[\"n2\"].mean(),\"std \",med_case_random[\"n2\"].std())\n",
    "print(\"Random Med Case - P -  mean: \",med_case_random[\"p-values\"].mean(),\"std \",med_case_random[\"p-values\"].std())"
   ]
  },
  {
   "cell_type": "code",
   "execution_count": 28,
   "id": "79803cdc",
   "metadata": {},
   "outputs": [
    {
     "name": "stdout",
     "output_type": "stream",
     "text": [
      "Thopson Med Case - N1 -  mean:  48.0 std  0.0\n",
      "Thompson Med Case - N2 -  mean:  48.0 std  0.0\n",
      "Thompson Med Case - P -  mean:  8.523296679051041e-07 std  1.2605451434613531e-05\n"
     ]
    }
   ],
   "source": [
    "print(\"Real Med Case - N1 -  mean: \",med_case_real[\"n1\"].mean(),\"std \",med_case_real[\"n1\"].std())\n",
    "print(\"Real Med Case - N2 -  mean: \",med_case_real[\"n2\"].mean(),\"std \",med_case_real[\"n2\"].std())\n",
    "print(\"Real Med Case - P -  mean: \",med_case_real[\"p-values\"].mean(),\"std \",med_case_real[\"p-values\"].std())"
   ]
  },
  {
   "cell_type": "markdown",
   "id": "4e1f0553",
   "metadata": {},
   "source": [
    "### Low Case Simulations"
   ]
  },
  {
   "cell_type": "code",
   "execution_count": 16,
   "id": "29960619",
   "metadata": {},
   "outputs": [],
   "source": [
    "low_case_random = pd.read_csv('data/random_low.csv')\n",
    "low_case_thompson = pd.read_csv('data/thompson_low.csv')\n",
    "low_case_egreedy = pd.read_csv('data/egreedy_low.csv')\n",
    "low_case_real = pd.read_csv('data/real_low.csv')\n",
    "low_case_ucb = pd.read_csv('data/ucb_low.csv')\n",
    "data_med_dist = pd.read_csv(\"data/treatment.csv\")\n",
    "data_pl_dist = pd.read_csv(\"data/placebo_low.csv\")"
   ]
  },
  {
   "cell_type": "code",
   "execution_count": 5,
   "id": "371f6f2b",
   "metadata": {},
   "outputs": [
    {
     "data": {
      "image/png": "[encoded data removed]",
      "text/plain": [
       "<Figure size 576x432 with 1 Axes>"
      ]
     },
     "metadata": {},
     "output_type": "display_data"
    }
   ],
   "source": [
    "fig = plt.figure(figsize=(8,6))\n",
    "x_values = np.linspace(0, 30, 10000)\n",
    "\n",
    "# generate gaussian curves with mu = 0, sigma = 5, 10\n",
    "plt.plot(x_values, gaussian(x_values, data_med_dist.mean()[1], data_med_dist.std()[1]),color=\"blue\",label=\"Lofexidine\" )\n",
    "plt.plot(x_values, gaussian(x_values, (data_pl_dist.mean()[1]), data_pl_dist.std()[1]),color=\"red\", label = \"Placebo\")\n",
    "\n",
    "fig.patch.set_facecolor('white')\n",
    "fig.patch.set_alpha(1)\n",
    "\n",
    "plt.xlabel(\"MHOWS values\")\n",
    "plt.ylabel(\"Frequency\")\n",
    "plt.legend(loc='best')\n",
    "plt.title(\"Treatment Outcomes\")\n",
    "\n",
    "plt.show()"
   ]
  },
  {
   "cell_type": "code",
   "execution_count": 13,
   "id": "21cf374d",
   "metadata": {},
   "outputs": [
    {
     "name": "stdout",
     "output_type": "stream",
     "text": [
      "Thompson Low Case - N1 -  mean:  86.2839 std  10.40628319156179\n",
      "Thompson Low Case - N2 -  mean:  9.7161 std  10.40628319156179\n",
      "Thompson Low Case - P -  mean:  0.10637975218367766 std  0.11169021134348016\n"
     ]
    }
   ],
   "source": [
    "print(\"Thompson Low Case - N1 -  mean: \",low_case_thompson[\"n1\"].mean(),\"std \",low_case_thompson[\"n1\"].std())\n",
    "print(\"Thompson Low Case - N2 -  mean: \",low_case_thompson[\"n2\"].mean(),\"std \",low_case_thompson[\"n2\"].std())\n",
    "print(\"Thompson Low Case - P -  mean: \",low_case_thompson[\"p-values\"].mean(),\"std \",low_case_thompson[\"p-values\"].std())"
   ]
  },
  {
   "cell_type": "code",
   "execution_count": 17,
   "id": "24249bec",
   "metadata": {},
   "outputs": [
    {
     "name": "stdout",
     "output_type": "stream",
     "text": [
      "E-Greedy Low Case - N1 -  mean:  81.517 std  8.531646376813374\n",
      "E-Greedy Low Case - N2 -  mean:  14.483 std  8.531646376813374\n",
      "E-Greedy Low Case - P -  mean:  0.15516659398753185 std  0.1381128993488139\n"
     ]
    }
   ],
   "source": [
    "print(\"E-Greedy Low Case - N1 -  mean: \",low_case_egreedy[\"n1\"].mean(),\"std \",low_case_egreedy[\"n1\"].std())\n",
    "print(\"E-Greedy Low Case - N2 -  mean: \",low_case_egreedy[\"n2\"].mean(),\"std \",low_case_egreedy[\"n2\"].std())\n",
    "print(\"E-Greedy Low Case - P -  mean: \",low_case_egreedy[\"p-values\"].mean(),\"std \",low_case_egreedy[\"p-values\"].std())"
   ]
  },
  {
   "cell_type": "code",
   "execution_count": 14,
   "id": "1a6e0a73",
   "metadata": {},
   "outputs": [
    {
     "name": "stdout",
     "output_type": "stream",
     "text": [
      "UCB Low Case - N1 -  mean:  72.4326 std  39.82231332938999\n",
      "UCB Low Case - N2 -  mean:  23.5674 std  39.82231332938999\n",
      "UCB Low Med Case - P -  mean:  0.1583033312564266 std  0.14580878064843358\n"
     ]
    }
   ],
   "source": [
    "print(\"UCB Low Case - N1 -  mean: \",low_case_ucb[\"n1\"].mean(),\"std \",low_case_ucb[\"n1\"].std())\n",
    "print(\"UCB Low Case - N2 -  mean: \",low_case_ucb[\"n2\"].mean(),\"std \",low_case_ucb[\"n2\"].std())\n",
    "print(\"UCB Low Med Case - P -  mean: \",low_case_ucb[\"p-values\"].mean(),\"std \",low_case_ucb[\"p-values\"].std())"
   ]
  },
  {
   "cell_type": "code",
   "execution_count": 9,
   "id": "e8e889da",
   "metadata": {},
   "outputs": [
    {
     "name": "stdout",
     "output_type": "stream",
     "text": [
      "Real Low Case - N1 -  mean:  48.0 std  0.0\n",
      "Real Low Case - N2 -  mean:  48.0 std  0.0\n",
      "Real Low Case - P -  mean:  0.10941958048542703 std  0.10307253652402666\n"
     ]
    }
   ],
   "source": [
    "print(\"Real Low Case - N1 -  mean: \",low_case_real[\"n1\"].mean(),\"std \",low_case_real[\"n1\"].std())\n",
    "print(\"Real Low Case - N2 -  mean: \",low_case_real[\"n2\"].mean(),\"std \",low_case_real[\"n2\"].std())\n",
    "print(\"Real Low Case - P -  mean: \",low_case_real[\"p-values\"].mean(),\"std \",low_case_real[\"p-values\"].std())"
   ]
  },
  {
   "cell_type": "code",
   "execution_count": null,
   "id": "813ed71e",
   "metadata": {},
   "outputs": [],
   "source": []
  }
 ],
 "metadata": {
  "kernelspec": {
   "display_name": "Python 3 (ipykernel)",
   "language": "python",
   "name": "python3"
  },
  "language_info": {
   "codemirror_mode": {
    "name": "ipython",
    "version": 3
   },
   "file_extension": ".py",
   "mimetype": "text/x-python",
   "name": "python",
   "nbconvert_exporter": "python",
   "pygments_lexer": "ipython3",
   "version": "3.8.11"
  }
 },
 "nbformat": 4,
 "nbformat_minor": 5
}
